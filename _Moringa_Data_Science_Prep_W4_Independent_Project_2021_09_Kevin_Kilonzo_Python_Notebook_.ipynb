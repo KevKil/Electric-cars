{
  "nbformat": 4,
  "nbformat_minor": 0,
  "metadata": {
    "colab": {
      "name": "\"Moringa_Data_Science_Prep_W4_Independent_Project_2021_09_Kevin_Kilonzo_Python_Notebook\".ipynb",
      "provenance": []
    },
    "kernelspec": {
      "name": "python3",
      "display_name": "Python 3"
    },
    "language_info": {
      "name": "python"
    }
  },
  "cells": [
    {
      "cell_type": "markdown",
      "metadata": {
        "id": "h79V05tJVxEK"
      },
      "source": [
        "# Python Data Cleaning and Analysis - Autolib dataset\n",
        "\n"
      ]
    },
    {
      "cell_type": "markdown",
      "metadata": {
        "id": "a_CmjSNvWcI0"
      },
      "source": [
        "## 1.0 Importing our Libraries"
      ]
    },
    {
      "cell_type": "code",
      "metadata": {
        "id": "TLlpGtcAUwYT"
      },
      "source": [
        "# Importing the pandas library\n",
        "import pandas as pd\n",
        "# Importing the numpy library\n",
        "import numpy as np"
      ],
      "execution_count": 313,
      "outputs": []
    },
    {
      "cell_type": "markdown",
      "metadata": {
        "id": "_AbERCOxWeUC"
      },
      "source": [
        "## 1.1 Reading the Dataset from our CSV file\n"
      ]
    },
    {
      "cell_type": "markdown",
      "metadata": {
        "id": "4HY_R7EmY4af"
      },
      "source": [
        "The dataset we will use contains Autolib database from Dalberg\n",
        "[link database](http://bit.ly/autolib_dataset)\n"
      ]
    },
    {
      "cell_type": "code",
      "metadata": {
        "id": "C-f8Ane1W4M9"
      },
      "source": [
        "# Let's read the data from the CSV file and create the dataframe to be used\n",
        "df = pd.read_csv('/content/Autolib_dataset (2).csv')"
      ],
      "execution_count": 314,
      "outputs": []
    },
    {
      "cell_type": "markdown",
      "metadata": {
        "id": "a_h2wizLW-WD"
      },
      "source": [
        "## 1.2 Previewing our Dataset\n"
      ]
    },
    {
      "cell_type": "code",
      "metadata": {
        "colab": {
          "base_uri": "https://localhost:8080/",
          "height": 746
        },
        "id": "y4NwEFsSXAFp",
        "outputId": "f2ea3ea5-8f61-4cf1-adc4-c641916baead"
      },
      "source": [
        "#show the first ten rows\n",
        "df.head(10)"
      ],
      "execution_count": 315,
      "outputs": [
        {
          "output_type": "execute_result",
          "data": {
            "text/html": [
              "<div>\n",
              "<style scoped>\n",
              "    .dataframe tbody tr th:only-of-type {\n",
              "        vertical-align: middle;\n",
              "    }\n",
              "\n",
              "    .dataframe tbody tr th {\n",
              "        vertical-align: top;\n",
              "    }\n",
              "\n",
              "    .dataframe thead th {\n",
              "        text-align: right;\n",
              "    }\n",
              "</style>\n",
              "<table border=\"1\" class=\"dataframe\">\n",
              "  <thead>\n",
              "    <tr style=\"text-align: right;\">\n",
              "      <th></th>\n",
              "      <th>Address</th>\n",
              "      <th>Cars</th>\n",
              "      <th>Bluecar counter</th>\n",
              "      <th>Utilib counter</th>\n",
              "      <th>Utilib 1.4 counter</th>\n",
              "      <th>Charge Slots</th>\n",
              "      <th>Charging Status</th>\n",
              "      <th>City</th>\n",
              "      <th>Displayed comment</th>\n",
              "      <th>ID</th>\n",
              "      <th>Kind</th>\n",
              "      <th>Geo point</th>\n",
              "      <th>Postal code</th>\n",
              "      <th>Public name</th>\n",
              "      <th>Rental status</th>\n",
              "      <th>Scheduled at</th>\n",
              "      <th>Slots</th>\n",
              "      <th>Station type</th>\n",
              "      <th>Status</th>\n",
              "      <th>Subscription status</th>\n",
              "      <th>year</th>\n",
              "      <th>month</th>\n",
              "      <th>day</th>\n",
              "      <th>hour</th>\n",
              "      <th>minute</th>\n",
              "    </tr>\n",
              "  </thead>\n",
              "  <tbody>\n",
              "    <tr>\n",
              "      <th>0</th>\n",
              "      <td>2 Avenue de Suffren</td>\n",
              "      <td>0</td>\n",
              "      <td>0</td>\n",
              "      <td>0</td>\n",
              "      <td>0</td>\n",
              "      <td>0</td>\n",
              "      <td>nonexistent</td>\n",
              "      <td>Paris</td>\n",
              "      <td>NaN</td>\n",
              "      <td>paris-suffren-2</td>\n",
              "      <td>STATION</td>\n",
              "      <td>48.857, 2.2917</td>\n",
              "      <td>75015</td>\n",
              "      <td>Paris/Suffren/2</td>\n",
              "      <td>operational</td>\n",
              "      <td>NaN</td>\n",
              "      <td>2</td>\n",
              "      <td>station</td>\n",
              "      <td>ok</td>\n",
              "      <td>nonexistent</td>\n",
              "      <td>2018</td>\n",
              "      <td>4</td>\n",
              "      <td>8</td>\n",
              "      <td>11</td>\n",
              "      <td>43</td>\n",
              "    </tr>\n",
              "    <tr>\n",
              "      <th>1</th>\n",
              "      <td>145 Rue Raymond Losserand</td>\n",
              "      <td>6</td>\n",
              "      <td>6</td>\n",
              "      <td>0</td>\n",
              "      <td>0</td>\n",
              "      <td>0</td>\n",
              "      <td>operational</td>\n",
              "      <td>Paris</td>\n",
              "      <td>NaN</td>\n",
              "      <td>paris-raymondlosserand-145</td>\n",
              "      <td>STATION</td>\n",
              "      <td>48.83126, 2.313088</td>\n",
              "      <td>75014</td>\n",
              "      <td>Paris/Raymond Losserand/145</td>\n",
              "      <td>operational</td>\n",
              "      <td>NaN</td>\n",
              "      <td>0</td>\n",
              "      <td>station</td>\n",
              "      <td>ok</td>\n",
              "      <td>nonexistent</td>\n",
              "      <td>2018</td>\n",
              "      <td>4</td>\n",
              "      <td>6</td>\n",
              "      <td>7</td>\n",
              "      <td>24</td>\n",
              "    </tr>\n",
              "    <tr>\n",
              "      <th>2</th>\n",
              "      <td>2 Avenue John Fitzgerald Kennedy</td>\n",
              "      <td>3</td>\n",
              "      <td>3</td>\n",
              "      <td>0</td>\n",
              "      <td>2</td>\n",
              "      <td>0</td>\n",
              "      <td>operational</td>\n",
              "      <td>Le Bourget</td>\n",
              "      <td>NaN</td>\n",
              "      <td>lebourget-johnfitzgeraldkennedy-2</td>\n",
              "      <td>STATION</td>\n",
              "      <td>48.938103, 2.4286035</td>\n",
              "      <td>93350</td>\n",
              "      <td>Le Bourget/John Fitzgerald Kennedy/2</td>\n",
              "      <td>operational</td>\n",
              "      <td>NaN</td>\n",
              "      <td>1</td>\n",
              "      <td>station</td>\n",
              "      <td>ok</td>\n",
              "      <td>nonexistent</td>\n",
              "      <td>2018</td>\n",
              "      <td>4</td>\n",
              "      <td>3</td>\n",
              "      <td>20</td>\n",
              "      <td>14</td>\n",
              "    </tr>\n",
              "    <tr>\n",
              "      <th>3</th>\n",
              "      <td>51 Rue EugÃ¨ne OudinÃ©</td>\n",
              "      <td>3</td>\n",
              "      <td>3</td>\n",
              "      <td>1</td>\n",
              "      <td>0</td>\n",
              "      <td>1</td>\n",
              "      <td>operational</td>\n",
              "      <td>Paris</td>\n",
              "      <td>NaN</td>\n",
              "      <td>paris-eugeneoudine-51</td>\n",
              "      <td>STATION</td>\n",
              "      <td>48.8250327, 2.3725162</td>\n",
              "      <td>75013</td>\n",
              "      <td>Paris/EugÃ¨ne OudinÃ©/51</td>\n",
              "      <td>operational</td>\n",
              "      <td>NaN</td>\n",
              "      <td>2</td>\n",
              "      <td>station</td>\n",
              "      <td>ok</td>\n",
              "      <td>nonexistent</td>\n",
              "      <td>2018</td>\n",
              "      <td>4</td>\n",
              "      <td>4</td>\n",
              "      <td>4</td>\n",
              "      <td>37</td>\n",
              "    </tr>\n",
              "    <tr>\n",
              "      <th>4</th>\n",
              "      <td>6 avenue de la Porte de Champerret</td>\n",
              "      <td>3</td>\n",
              "      <td>3</td>\n",
              "      <td>0</td>\n",
              "      <td>0</td>\n",
              "      <td>0</td>\n",
              "      <td>nonexistent</td>\n",
              "      <td>Paris</td>\n",
              "      <td>NaN</td>\n",
              "      <td>paris-portedechamperret-6</td>\n",
              "      <td>PARKING</td>\n",
              "      <td>48.8862632, 2.2874511</td>\n",
              "      <td>75017</td>\n",
              "      <td>Paris/Porte de Champerret/6</td>\n",
              "      <td>operational</td>\n",
              "      <td>NaN</td>\n",
              "      <td>3</td>\n",
              "      <td>station</td>\n",
              "      <td>ok</td>\n",
              "      <td>nonexistent</td>\n",
              "      <td>2018</td>\n",
              "      <td>4</td>\n",
              "      <td>8</td>\n",
              "      <td>17</td>\n",
              "      <td>23</td>\n",
              "    </tr>\n",
              "    <tr>\n",
              "      <th>5</th>\n",
              "      <td>8 Boulevard Voltaire</td>\n",
              "      <td>0</td>\n",
              "      <td>0</td>\n",
              "      <td>0</td>\n",
              "      <td>0</td>\n",
              "      <td>0</td>\n",
              "      <td>nonexistent</td>\n",
              "      <td>Paris</td>\n",
              "      <td>NaN</td>\n",
              "      <td>paris-voltaire-8</td>\n",
              "      <td>STATION</td>\n",
              "      <td>48.8657658, 2.3664376</td>\n",
              "      <td>75011</td>\n",
              "      <td>Paris/Voltaire/8</td>\n",
              "      <td>operational</td>\n",
              "      <td>NaN</td>\n",
              "      <td>4</td>\n",
              "      <td>station</td>\n",
              "      <td>ok</td>\n",
              "      <td>nonexistent</td>\n",
              "      <td>2018</td>\n",
              "      <td>4</td>\n",
              "      <td>6</td>\n",
              "      <td>7</td>\n",
              "      <td>2</td>\n",
              "    </tr>\n",
              "    <tr>\n",
              "      <th>6</th>\n",
              "      <td>37 rue Leblanc</td>\n",
              "      <td>0</td>\n",
              "      <td>0</td>\n",
              "      <td>0</td>\n",
              "      <td>0</td>\n",
              "      <td>0</td>\n",
              "      <td>nonexistent</td>\n",
              "      <td>Paris</td>\n",
              "      <td>Station en parking (niv -1), accÃ¨s 37 rue Leb...</td>\n",
              "      <td>paris-citroencevennes-parking</td>\n",
              "      <td>PARKING</td>\n",
              "      <td>48.83874, 2.27641</td>\n",
              "      <td>75015</td>\n",
              "      <td>Paris/CitroÃ«n CÃ©vennes/Parking</td>\n",
              "      <td>broken</td>\n",
              "      <td>NaN</td>\n",
              "      <td>0</td>\n",
              "      <td>station</td>\n",
              "      <td>closed</td>\n",
              "      <td>nonexistent</td>\n",
              "      <td>2018</td>\n",
              "      <td>4</td>\n",
              "      <td>8</td>\n",
              "      <td>18</td>\n",
              "      <td>20</td>\n",
              "    </tr>\n",
              "    <tr>\n",
              "      <th>7</th>\n",
              "      <td>17 Rue des Luaps ProlongÃ©e</td>\n",
              "      <td>3</td>\n",
              "      <td>3</td>\n",
              "      <td>1</td>\n",
              "      <td>0</td>\n",
              "      <td>0</td>\n",
              "      <td>nonexistent</td>\n",
              "      <td>Nanterre</td>\n",
              "      <td>NaN</td>\n",
              "      <td>nanterre-luaps-17</td>\n",
              "      <td>STATION</td>\n",
              "      <td>48.88069, 2.21063</td>\n",
              "      <td>92000</td>\n",
              "      <td>Nanterre/Luaps/17</td>\n",
              "      <td>operational</td>\n",
              "      <td>NaN</td>\n",
              "      <td>0</td>\n",
              "      <td>station</td>\n",
              "      <td>ok</td>\n",
              "      <td>nonexistent</td>\n",
              "      <td>2018</td>\n",
              "      <td>4</td>\n",
              "      <td>4</td>\n",
              "      <td>22</td>\n",
              "      <td>13</td>\n",
              "    </tr>\n",
              "    <tr>\n",
              "      <th>8</th>\n",
              "      <td>34 avenue Jean Moulin</td>\n",
              "      <td>1</td>\n",
              "      <td>1</td>\n",
              "      <td>0</td>\n",
              "      <td>0</td>\n",
              "      <td>0</td>\n",
              "      <td>nonexistent</td>\n",
              "      <td>Paris</td>\n",
              "      <td>NaN</td>\n",
              "      <td>paris-jeanmoulin-34</td>\n",
              "      <td>STATION</td>\n",
              "      <td>48.8266807, 2.3237355</td>\n",
              "      <td>75014</td>\n",
              "      <td>Paris/Jean Moulin/34</td>\n",
              "      <td>operational</td>\n",
              "      <td>NaN</td>\n",
              "      <td>4</td>\n",
              "      <td>station</td>\n",
              "      <td>ok</td>\n",
              "      <td>nonexistent</td>\n",
              "      <td>2018</td>\n",
              "      <td>4</td>\n",
              "      <td>2</td>\n",
              "      <td>22</td>\n",
              "      <td>58</td>\n",
              "    </tr>\n",
              "    <tr>\n",
              "      <th>9</th>\n",
              "      <td>41 boulevard de Rochechouart</td>\n",
              "      <td>6</td>\n",
              "      <td>6</td>\n",
              "      <td>0</td>\n",
              "      <td>0</td>\n",
              "      <td>0</td>\n",
              "      <td>nonexistent</td>\n",
              "      <td>Paris</td>\n",
              "      <td>NaN</td>\n",
              "      <td>paris-anvers-parking</td>\n",
              "      <td>PARKING</td>\n",
              "      <td>48.88267, 2.34405</td>\n",
              "      <td>75009</td>\n",
              "      <td>Paris/Anvers/Parking</td>\n",
              "      <td>operational</td>\n",
              "      <td>NaN</td>\n",
              "      <td>0</td>\n",
              "      <td>station</td>\n",
              "      <td>ok</td>\n",
              "      <td>nonexistent</td>\n",
              "      <td>2018</td>\n",
              "      <td>4</td>\n",
              "      <td>4</td>\n",
              "      <td>15</td>\n",
              "      <td>2</td>\n",
              "    </tr>\n",
              "  </tbody>\n",
              "</table>\n",
              "</div>"
            ],
            "text/plain": [
              "                              Address  Cars  Bluecar counter  ...  day  hour  minute\n",
              "0                 2 Avenue de Suffren     0                0  ...    8    11      43\n",
              "1           145 Rue Raymond Losserand     6                6  ...    6     7      24\n",
              "2    2 Avenue John Fitzgerald Kennedy     3                3  ...    3    20      14\n",
              "3              51 Rue EugÃ¨ne OudinÃ©     3                3  ...    4     4      37\n",
              "4  6 avenue de la Porte de Champerret     3                3  ...    8    17      23\n",
              "5                8 Boulevard Voltaire     0                0  ...    6     7       2\n",
              "6                      37 rue Leblanc     0                0  ...    8    18      20\n",
              "7         17 Rue des Luaps ProlongÃ©e     3                3  ...    4    22      13\n",
              "8               34 avenue Jean Moulin     1                1  ...    2    22      58\n",
              "9        41 boulevard de Rochechouart     6                6  ...    4    15       2\n",
              "\n",
              "[10 rows x 25 columns]"
            ]
          },
          "metadata": {},
          "execution_count": 315
        }
      ]
    },
    {
      "cell_type": "markdown",
      "metadata": {
        "id": "Gz2LxIASXLAn"
      },
      "source": [
        "## 1.3 Accessing Information about our Dataset"
      ]
    },
    {
      "cell_type": "code",
      "metadata": {
        "colab": {
          "base_uri": "https://localhost:8080/"
        },
        "id": "gs4cqwQGXM23",
        "outputId": "f70177ad-1a9c-4525-b32c-833979ba010b"
      },
      "source": [
        "# To know the information about the dataset\n",
        "df.info()\n",
        "print(df.shape)"
      ],
      "execution_count": 316,
      "outputs": [
        {
          "output_type": "stream",
          "name": "stdout",
          "text": [
            "<class 'pandas.core.frame.DataFrame'>\n",
            "RangeIndex: 5000 entries, 0 to 4999\n",
            "Data columns (total 25 columns):\n",
            " #   Column               Non-Null Count  Dtype \n",
            "---  ------               --------------  ----- \n",
            " 0   Address              5000 non-null   object\n",
            " 1   Cars                 5000 non-null   int64 \n",
            " 2   Bluecar counter      5000 non-null   int64 \n",
            " 3   Utilib counter       5000 non-null   int64 \n",
            " 4   Utilib 1.4 counter   5000 non-null   int64 \n",
            " 5   Charge Slots         5000 non-null   int64 \n",
            " 6   Charging Status      5000 non-null   object\n",
            " 7   City                 5000 non-null   object\n",
            " 8   Displayed comment    111 non-null    object\n",
            " 9   ID                   5000 non-null   object\n",
            " 10  Kind                 5000 non-null   object\n",
            " 11  Geo point            5000 non-null   object\n",
            " 12  Postal code          5000 non-null   int64 \n",
            " 13  Public name          5000 non-null   object\n",
            " 14  Rental status        5000 non-null   object\n",
            " 15  Scheduled at         47 non-null     object\n",
            " 16  Slots                5000 non-null   int64 \n",
            " 17  Station type         5000 non-null   object\n",
            " 18  Status               5000 non-null   object\n",
            " 19  Subscription status  5000 non-null   object\n",
            " 20  year                 5000 non-null   int64 \n",
            " 21  month                5000 non-null   int64 \n",
            " 22  day                  5000 non-null   int64 \n",
            " 23  hour                 5000 non-null   int64 \n",
            " 24  minute               5000 non-null   int64 \n",
            "dtypes: int64(12), object(13)\n",
            "memory usage: 976.7+ KB\n",
            "(5000, 25)\n"
          ]
        }
      ]
    },
    {
      "cell_type": "markdown",
      "metadata": {
        "id": "bDSYI7jFXNcq"
      },
      "source": [
        "## 1.4 Cleaning our Dataset"
      ]
    },
    {
      "cell_type": "markdown",
      "metadata": {
        "id": "6JGlCvPdXixz"
      },
      "source": [
        "### 1.41) Validity"
      ]
    },
    {
      "cell_type": "code",
      "metadata": {
        "colab": {
          "base_uri": "https://localhost:8080/"
        },
        "id": "nk_94hGobweV",
        "outputId": "88141668-9cda-47ab-f122-d7073694e8d9"
      },
      "source": [
        "df.columns"
      ],
      "execution_count": 317,
      "outputs": [
        {
          "output_type": "execute_result",
          "data": {
            "text/plain": [
              "Index(['Address', 'Cars', 'Bluecar counter', 'Utilib counter',\n",
              "       'Utilib 1.4 counter', 'Charge Slots', 'Charging Status', 'City',\n",
              "       'Displayed comment', 'ID', 'Kind', 'Geo point', 'Postal code',\n",
              "       'Public name', 'Rental status', 'Scheduled at', 'Slots', 'Station type',\n",
              "       'Status', 'Subscription status', 'year', 'month', 'day', 'hour',\n",
              "       'minute'],\n",
              "      dtype='object')"
            ]
          },
          "metadata": {},
          "execution_count": 317
        }
      ]
    },
    {
      "cell_type": "code",
      "metadata": {
        "id": "KR9sr93SNX4Q"
      },
      "source": [
        "#change column names to lower case, remove leading and trailing spaces and replacing gaps in columns with underscores\n",
        "df.columns = df.columns.str.strip().str.lower().str.replace(' ','_')"
      ],
      "execution_count": 318,
      "outputs": []
    },
    {
      "cell_type": "code",
      "metadata": {
        "colab": {
          "base_uri": "https://localhost:8080/"
        },
        "id": "Ok4By7wYNr4H",
        "outputId": "a54c56a4-87ee-4e5b-ef55-34a0f8aae8f1"
      },
      "source": [
        "#Checking changes\n",
        "df.columns"
      ],
      "execution_count": 319,
      "outputs": [
        {
          "output_type": "execute_result",
          "data": {
            "text/plain": [
              "Index(['address', 'cars', 'bluecar_counter', 'utilib_counter',\n",
              "       'utilib_1.4_counter', 'charge_slots', 'charging_status', 'city',\n",
              "       'displayed_comment', 'id', 'kind', 'geo_point', 'postal_code',\n",
              "       'public_name', 'rental_status', 'scheduled_at', 'slots', 'station_type',\n",
              "       'status', 'subscription_status', 'year', 'month', 'day', 'hour',\n",
              "       'minute'],\n",
              "      dtype='object')"
            ]
          },
          "metadata": {},
          "execution_count": 319
        }
      ]
    },
    {
      "cell_type": "code",
      "metadata": {
        "id": "KnCHZlKfQIdR"
      },
      "source": [
        "df.columns = df.columns.str.replace('_counter','_nos')"
      ],
      "execution_count": 320,
      "outputs": []
    },
    {
      "cell_type": "code",
      "metadata": {
        "colab": {
          "base_uri": "https://localhost:8080/"
        },
        "id": "CzAFXRXbQ69l",
        "outputId": "6223472c-6653-4015-8a17-b9ade8d2c44e"
      },
      "source": [
        "#Checking changes\n",
        "df.columns"
      ],
      "execution_count": 321,
      "outputs": [
        {
          "output_type": "execute_result",
          "data": {
            "text/plain": [
              "Index(['address', 'cars', 'bluecar_nos', 'utilib_nos', 'utilib_1.4_nos',\n",
              "       'charge_slots', 'charging_status', 'city', 'displayed_comment', 'id',\n",
              "       'kind', 'geo_point', 'postal_code', 'public_name', 'rental_status',\n",
              "       'scheduled_at', 'slots', 'station_type', 'status',\n",
              "       'subscription_status', 'year', 'month', 'day', 'hour', 'minute'],\n",
              "      dtype='object')"
            ]
          },
          "metadata": {},
          "execution_count": 321
        }
      ]
    },
    {
      "cell_type": "markdown",
      "metadata": {
        "id": "b206jNxbXmwF"
      },
      "source": [
        "### 1.42) Accuracy"
      ]
    },
    {
      "cell_type": "markdown",
      "metadata": {
        "id": "KE6yQlS9OkCI"
      },
      "source": [
        "The values in the rows and columns were found to be accurate and matching up"
      ]
    },
    {
      "cell_type": "markdown",
      "metadata": {
        "id": "KiBqQ7_LXxuV"
      },
      "source": [
        "### 1.43) Completeness"
      ]
    },
    {
      "cell_type": "code",
      "metadata": {
        "colab": {
          "base_uri": "https://localhost:8080/"
        },
        "id": "dwhN_06EelsV",
        "outputId": "2f92dfab-0606-4029-ca18-a329f5d9a783"
      },
      "source": [
        "# Checking for null values\n",
        "# Null values in the Displayed comment and Scheduled at columns are expected\n",
        "df.isnull().sum()"
      ],
      "execution_count": 322,
      "outputs": [
        {
          "output_type": "execute_result",
          "data": {
            "text/plain": [
              "address                   0\n",
              "cars                      0\n",
              "bluecar_nos               0\n",
              "utilib_nos                0\n",
              "utilib_1.4_nos            0\n",
              "charge_slots              0\n",
              "charging_status           0\n",
              "city                      0\n",
              "displayed_comment      4889\n",
              "id                        0\n",
              "kind                      0\n",
              "geo_point                 0\n",
              "postal_code               0\n",
              "public_name               0\n",
              "rental_status             0\n",
              "scheduled_at           4953\n",
              "slots                     0\n",
              "station_type              0\n",
              "status                    0\n",
              "subscription_status       0\n",
              "year                      0\n",
              "month                     0\n",
              "day                       0\n",
              "hour                      0\n",
              "minute                    0\n",
              "dtype: int64"
            ]
          },
          "metadata": {},
          "execution_count": 322
        }
      ]
    },
    {
      "cell_type": "markdown",
      "metadata": {
        "id": "Udj8anPYPGiD"
      },
      "source": [
        "No need to drop any values as they are expected"
      ]
    },
    {
      "cell_type": "markdown",
      "metadata": {
        "id": "NYZllN5uX2fY"
      },
      "source": [
        "### 1.44) Consistency"
      ]
    },
    {
      "cell_type": "code",
      "metadata": {
        "colab": {
          "base_uri": "https://localhost:8080/"
        },
        "id": "mluDM-Qpf5dw",
        "outputId": "83f30131-bf98-4c31-c401-f61dda758fa5"
      },
      "source": [
        "#Check for duplicates\n",
        "df.duplicated().sum()"
      ],
      "execution_count": 323,
      "outputs": [
        {
          "output_type": "execute_result",
          "data": {
            "text/plain": [
              "0"
            ]
          },
          "metadata": {},
          "execution_count": 323
        }
      ]
    },
    {
      "cell_type": "markdown",
      "metadata": {
        "id": "05kjZ3XlO9CQ"
      },
      "source": [
        "No need to drop duplicates as there are none"
      ]
    },
    {
      "cell_type": "markdown",
      "metadata": {
        "id": "ix0yOEYFX9oU"
      },
      "source": [
        "### 1.45) Uniformity"
      ]
    },
    {
      "cell_type": "code",
      "metadata": {
        "colab": {
          "base_uri": "https://localhost:8080/"
        },
        "id": "zy_ite9vC9UH",
        "outputId": "d1d48219-8a8e-4e16-f1f0-d42d3db263bb"
      },
      "source": [
        "#merge year ,month, day, hour amd minute columns as timestamp\n",
        "df['timestamp'] = df['year'].astype(str) +'/'+ df['month'].astype(str) + '/' + df['day'].astype(str) +' '+ df['hour'].astype(str) + ':' + df['minute'].astype(str)\n",
        "df['timestamp'].head(20)\n"
      ],
      "execution_count": 324,
      "outputs": [
        {
          "output_type": "execute_result",
          "data": {
            "text/plain": [
              "0     2018/4/8 11:43\n",
              "1      2018/4/6 7:24\n",
              "2     2018/4/3 20:14\n",
              "3      2018/4/4 4:37\n",
              "4     2018/4/8 17:23\n",
              "5       2018/4/6 7:2\n",
              "6     2018/4/8 18:20\n",
              "7     2018/4/4 22:13\n",
              "8     2018/4/2 22:58\n",
              "9      2018/4/4 15:2\n",
              "10     2018/4/1 4:39\n",
              "11     2018/4/6 9:20\n",
              "12    2018/4/5 12:22\n",
              "13    2018/4/8 21:54\n",
              "14      2018/4/6 8:0\n",
              "15     2018/4/2 0:21\n",
              "16     2018/4/3 19:0\n",
              "17    2018/4/9 12:14\n",
              "18    2018/4/9 20:58\n",
              "19    2018/4/9 21:31\n",
              "Name: timestamp, dtype: object"
            ]
          },
          "metadata": {},
          "execution_count": 324
        }
      ]
    },
    {
      "cell_type": "code",
      "metadata": {
        "id": "XcvuS4LZrVsa"
      },
      "source": [
        "#convert timestamp column to datetime\n",
        "df['timestamp'] = pd.to_datetime(df['timestamp'])"
      ],
      "execution_count": 325,
      "outputs": []
    },
    {
      "cell_type": "code",
      "metadata": {
        "colab": {
          "base_uri": "https://localhost:8080/"
        },
        "id": "EdUvzKKmRGcO",
        "outputId": "101cac9c-1ea3-4a38-d9e8-21caad4beab5"
      },
      "source": [
        "#check datatypes\n",
        "df.dtypes"
      ],
      "execution_count": 330,
      "outputs": [
        {
          "output_type": "execute_result",
          "data": {
            "text/plain": [
              "address                        object\n",
              "cars                            int64\n",
              "bluecar_nos                     int64\n",
              "utilib_nos                      int64\n",
              "utilib_1.4_nos                  int64\n",
              "charge_slots                    int64\n",
              "charging_status                object\n",
              "city                           object\n",
              "displayed_comment              object\n",
              "id                             object\n",
              "kind                           object\n",
              "geo_point                      object\n",
              "postal_code                     int64\n",
              "public_name                    object\n",
              "rental_status                  object\n",
              "scheduled_at                   object\n",
              "slots                           int64\n",
              "station_type                   object\n",
              "status                         object\n",
              "subscription_status            object\n",
              "year                            int64\n",
              "month                           int64\n",
              "day                             int64\n",
              "hour                            int64\n",
              "minute                          int64\n",
              "timestamp              datetime64[ns]\n",
              "dtype: object"
            ]
          },
          "metadata": {},
          "execution_count": 330
        }
      ]
    },
    {
      "cell_type": "code",
      "metadata": {
        "colab": {
          "base_uri": "https://localhost:8080/"
        },
        "id": "pTT_1OfsPjP5",
        "outputId": "0b3e4590-0d73-41d8-ce53-2c7681dc0102"
      },
      "source": [
        "df.columns"
      ],
      "execution_count": 326,
      "outputs": [
        {
          "output_type": "execute_result",
          "data": {
            "text/plain": [
              "Index(['address', 'cars', 'bluecar_nos', 'utilib_nos', 'utilib_1.4_nos',\n",
              "       'charge_slots', 'charging_status', 'city', 'displayed_comment', 'id',\n",
              "       'kind', 'geo_point', 'postal_code', 'public_name', 'rental_status',\n",
              "       'scheduled_at', 'slots', 'station_type', 'status',\n",
              "       'subscription_status', 'year', 'month', 'day', 'hour', 'minute',\n",
              "       'timestamp'],\n",
              "      dtype='object')"
            ]
          },
          "metadata": {},
          "execution_count": 326
        }
      ]
    },
    {
      "cell_type": "code",
      "metadata": {
        "id": "X9BE1JimT5jK"
      },
      "source": [
        "#drop unecessary columns geo_point,cars,displayed_comment,scheduled_at,id,rental_status,status,subscription_status,kind,charging_status,slots,station_type\n",
        "dfinal = df.drop(columns=['geo_point','cars','displayed_comment','scheduled_at','id','rental_status','status','subscription_status','kind','charging_status','slots','station_type'])"
      ],
      "execution_count": 335,
      "outputs": []
    },
    {
      "cell_type": "code",
      "metadata": {
        "colab": {
          "base_uri": "https://localhost:8080/",
          "height": 425
        },
        "id": "898Q6vskdCF7",
        "outputId": "838006cf-60de-44e7-88d8-ab3cd8f60c1a"
      },
      "source": [
        "dfinal.head()"
      ],
      "execution_count": 336,
      "outputs": [
        {
          "output_type": "execute_result",
          "data": {
            "text/html": [
              "<div>\n",
              "<style scoped>\n",
              "    .dataframe tbody tr th:only-of-type {\n",
              "        vertical-align: middle;\n",
              "    }\n",
              "\n",
              "    .dataframe tbody tr th {\n",
              "        vertical-align: top;\n",
              "    }\n",
              "\n",
              "    .dataframe thead th {\n",
              "        text-align: right;\n",
              "    }\n",
              "</style>\n",
              "<table border=\"1\" class=\"dataframe\">\n",
              "  <thead>\n",
              "    <tr style=\"text-align: right;\">\n",
              "      <th></th>\n",
              "      <th>address</th>\n",
              "      <th>bluecar_nos</th>\n",
              "      <th>utilib_nos</th>\n",
              "      <th>utilib_1.4_nos</th>\n",
              "      <th>charge_slots</th>\n",
              "      <th>city</th>\n",
              "      <th>postal_code</th>\n",
              "      <th>public_name</th>\n",
              "      <th>year</th>\n",
              "      <th>month</th>\n",
              "      <th>day</th>\n",
              "      <th>hour</th>\n",
              "      <th>minute</th>\n",
              "      <th>timestamp</th>\n",
              "    </tr>\n",
              "  </thead>\n",
              "  <tbody>\n",
              "    <tr>\n",
              "      <th>0</th>\n",
              "      <td>2 Avenue de Suffren</td>\n",
              "      <td>0</td>\n",
              "      <td>0</td>\n",
              "      <td>0</td>\n",
              "      <td>0</td>\n",
              "      <td>Paris</td>\n",
              "      <td>75015</td>\n",
              "      <td>Paris/Suffren/2</td>\n",
              "      <td>2018</td>\n",
              "      <td>4</td>\n",
              "      <td>8</td>\n",
              "      <td>11</td>\n",
              "      <td>43</td>\n",
              "      <td>2018-04-08 11:43:00</td>\n",
              "    </tr>\n",
              "    <tr>\n",
              "      <th>1</th>\n",
              "      <td>145 Rue Raymond Losserand</td>\n",
              "      <td>6</td>\n",
              "      <td>0</td>\n",
              "      <td>0</td>\n",
              "      <td>0</td>\n",
              "      <td>Paris</td>\n",
              "      <td>75014</td>\n",
              "      <td>Paris/Raymond Losserand/145</td>\n",
              "      <td>2018</td>\n",
              "      <td>4</td>\n",
              "      <td>6</td>\n",
              "      <td>7</td>\n",
              "      <td>24</td>\n",
              "      <td>2018-04-06 07:24:00</td>\n",
              "    </tr>\n",
              "    <tr>\n",
              "      <th>2</th>\n",
              "      <td>2 Avenue John Fitzgerald Kennedy</td>\n",
              "      <td>3</td>\n",
              "      <td>0</td>\n",
              "      <td>2</td>\n",
              "      <td>0</td>\n",
              "      <td>Le Bourget</td>\n",
              "      <td>93350</td>\n",
              "      <td>Le Bourget/John Fitzgerald Kennedy/2</td>\n",
              "      <td>2018</td>\n",
              "      <td>4</td>\n",
              "      <td>3</td>\n",
              "      <td>20</td>\n",
              "      <td>14</td>\n",
              "      <td>2018-04-03 20:14:00</td>\n",
              "    </tr>\n",
              "    <tr>\n",
              "      <th>3</th>\n",
              "      <td>51 Rue EugÃ¨ne OudinÃ©</td>\n",
              "      <td>3</td>\n",
              "      <td>1</td>\n",
              "      <td>0</td>\n",
              "      <td>1</td>\n",
              "      <td>Paris</td>\n",
              "      <td>75013</td>\n",
              "      <td>Paris/EugÃ¨ne OudinÃ©/51</td>\n",
              "      <td>2018</td>\n",
              "      <td>4</td>\n",
              "      <td>4</td>\n",
              "      <td>4</td>\n",
              "      <td>37</td>\n",
              "      <td>2018-04-04 04:37:00</td>\n",
              "    </tr>\n",
              "    <tr>\n",
              "      <th>4</th>\n",
              "      <td>6 avenue de la Porte de Champerret</td>\n",
              "      <td>3</td>\n",
              "      <td>0</td>\n",
              "      <td>0</td>\n",
              "      <td>0</td>\n",
              "      <td>Paris</td>\n",
              "      <td>75017</td>\n",
              "      <td>Paris/Porte de Champerret/6</td>\n",
              "      <td>2018</td>\n",
              "      <td>4</td>\n",
              "      <td>8</td>\n",
              "      <td>17</td>\n",
              "      <td>23</td>\n",
              "      <td>2018-04-08 17:23:00</td>\n",
              "    </tr>\n",
              "  </tbody>\n",
              "</table>\n",
              "</div>"
            ],
            "text/plain": [
              "                              address  bluecar_nos  ...  minute           timestamp\n",
              "0                 2 Avenue de Suffren            0  ...      43 2018-04-08 11:43:00\n",
              "1           145 Rue Raymond Losserand            6  ...      24 2018-04-06 07:24:00\n",
              "2    2 Avenue John Fitzgerald Kennedy            3  ...      14 2018-04-03 20:14:00\n",
              "3              51 Rue EugÃ¨ne OudinÃ©            3  ...      37 2018-04-04 04:37:00\n",
              "4  6 avenue de la Porte de Champerret            3  ...      23 2018-04-08 17:23:00\n",
              "\n",
              "[5 rows x 14 columns]"
            ]
          },
          "metadata": {},
          "execution_count": 336
        }
      ]
    },
    {
      "cell_type": "markdown",
      "metadata": {
        "id": "yDFl4XWTYMID"
      },
      "source": [
        "## 1.5 Analysis"
      ]
    },
    {
      "cell_type": "markdown",
      "metadata": {
        "id": "CL2zZJqVTXz-"
      },
      "source": [
        "Identify the most popular hour of the day for picking up a shared electric car (Bluecar) in the city of Paris over the month of April 2018.\n"
      ]
    },
    {
      "cell_type": "code",
      "metadata": {
        "colab": {
          "base_uri": "https://localhost:8080/",
          "height": 371
        },
        "id": "pVOIuKNxX8dP",
        "outputId": "56b828d9-76a6-4868-9a94-30c92d07ab8d"
      },
      "source": [
        "#Get a subset where the city is Paris, month is April and year is 2018\n",
        "dfq = dfinal[(dfinal['city']== 'Paris') & (dfinal['year']==2018) & (dfinal['month']== 4)]\n",
        "\n",
        "dfq.head()\n"
      ],
      "execution_count": 340,
      "outputs": [
        {
          "output_type": "execute_result",
          "data": {
            "text/html": [
              "<div>\n",
              "<style scoped>\n",
              "    .dataframe tbody tr th:only-of-type {\n",
              "        vertical-align: middle;\n",
              "    }\n",
              "\n",
              "    .dataframe tbody tr th {\n",
              "        vertical-align: top;\n",
              "    }\n",
              "\n",
              "    .dataframe thead th {\n",
              "        text-align: right;\n",
              "    }\n",
              "</style>\n",
              "<table border=\"1\" class=\"dataframe\">\n",
              "  <thead>\n",
              "    <tr style=\"text-align: right;\">\n",
              "      <th></th>\n",
              "      <th>address</th>\n",
              "      <th>bluecar_nos</th>\n",
              "      <th>utilib_nos</th>\n",
              "      <th>utilib_1.4_nos</th>\n",
              "      <th>charge_slots</th>\n",
              "      <th>city</th>\n",
              "      <th>postal_code</th>\n",
              "      <th>public_name</th>\n",
              "      <th>year</th>\n",
              "      <th>month</th>\n",
              "      <th>day</th>\n",
              "      <th>hour</th>\n",
              "      <th>minute</th>\n",
              "      <th>timestamp</th>\n",
              "    </tr>\n",
              "  </thead>\n",
              "  <tbody>\n",
              "    <tr>\n",
              "      <th>0</th>\n",
              "      <td>2 Avenue de Suffren</td>\n",
              "      <td>0</td>\n",
              "      <td>0</td>\n",
              "      <td>0</td>\n",
              "      <td>0</td>\n",
              "      <td>Paris</td>\n",
              "      <td>75015</td>\n",
              "      <td>Paris/Suffren/2</td>\n",
              "      <td>2018</td>\n",
              "      <td>4</td>\n",
              "      <td>8</td>\n",
              "      <td>11</td>\n",
              "      <td>43</td>\n",
              "      <td>2018-04-08 11:43:00</td>\n",
              "    </tr>\n",
              "    <tr>\n",
              "      <th>1</th>\n",
              "      <td>145 Rue Raymond Losserand</td>\n",
              "      <td>6</td>\n",
              "      <td>0</td>\n",
              "      <td>0</td>\n",
              "      <td>0</td>\n",
              "      <td>Paris</td>\n",
              "      <td>75014</td>\n",
              "      <td>Paris/Raymond Losserand/145</td>\n",
              "      <td>2018</td>\n",
              "      <td>4</td>\n",
              "      <td>6</td>\n",
              "      <td>7</td>\n",
              "      <td>24</td>\n",
              "      <td>2018-04-06 07:24:00</td>\n",
              "    </tr>\n",
              "    <tr>\n",
              "      <th>3</th>\n",
              "      <td>51 Rue EugÃ¨ne OudinÃ©</td>\n",
              "      <td>3</td>\n",
              "      <td>1</td>\n",
              "      <td>0</td>\n",
              "      <td>1</td>\n",
              "      <td>Paris</td>\n",
              "      <td>75013</td>\n",
              "      <td>Paris/EugÃ¨ne OudinÃ©/51</td>\n",
              "      <td>2018</td>\n",
              "      <td>4</td>\n",
              "      <td>4</td>\n",
              "      <td>4</td>\n",
              "      <td>37</td>\n",
              "      <td>2018-04-04 04:37:00</td>\n",
              "    </tr>\n",
              "    <tr>\n",
              "      <th>4</th>\n",
              "      <td>6 avenue de la Porte de Champerret</td>\n",
              "      <td>3</td>\n",
              "      <td>0</td>\n",
              "      <td>0</td>\n",
              "      <td>0</td>\n",
              "      <td>Paris</td>\n",
              "      <td>75017</td>\n",
              "      <td>Paris/Porte de Champerret/6</td>\n",
              "      <td>2018</td>\n",
              "      <td>4</td>\n",
              "      <td>8</td>\n",
              "      <td>17</td>\n",
              "      <td>23</td>\n",
              "      <td>2018-04-08 17:23:00</td>\n",
              "    </tr>\n",
              "    <tr>\n",
              "      <th>5</th>\n",
              "      <td>8 Boulevard Voltaire</td>\n",
              "      <td>0</td>\n",
              "      <td>0</td>\n",
              "      <td>0</td>\n",
              "      <td>0</td>\n",
              "      <td>Paris</td>\n",
              "      <td>75011</td>\n",
              "      <td>Paris/Voltaire/8</td>\n",
              "      <td>2018</td>\n",
              "      <td>4</td>\n",
              "      <td>6</td>\n",
              "      <td>7</td>\n",
              "      <td>2</td>\n",
              "      <td>2018-04-06 07:02:00</td>\n",
              "    </tr>\n",
              "  </tbody>\n",
              "</table>\n",
              "</div>"
            ],
            "text/plain": [
              "                              address  bluecar_nos  ...  minute           timestamp\n",
              "0                 2 Avenue de Suffren            0  ...      43 2018-04-08 11:43:00\n",
              "1           145 Rue Raymond Losserand            6  ...      24 2018-04-06 07:24:00\n",
              "3              51 Rue EugÃ¨ne OudinÃ©            3  ...      37 2018-04-04 04:37:00\n",
              "4  6 avenue de la Porte de Champerret            3  ...      23 2018-04-08 17:23:00\n",
              "5                8 Boulevard Voltaire            0  ...       2 2018-04-06 07:02:00\n",
              "\n",
              "[5 rows x 14 columns]"
            ]
          },
          "metadata": {},
          "execution_count": 340
        }
      ]
    },
    {
      "cell_type": "code",
      "metadata": {
        "colab": {
          "base_uri": "https://localhost:8080/"
        },
        "id": "71XOw7fmUYM6",
        "outputId": "8ebe2b8a-a40b-4244-ecfa-e69debd0c5ab"
      },
      "source": [
        "#Checking the shape of subset\n",
        "dfq.shape"
      ],
      "execution_count": 341,
      "outputs": [
        {
          "output_type": "execute_result",
          "data": {
            "text/plain": [
              "(2816, 14)"
            ]
          },
          "metadata": {},
          "execution_count": 341
        }
      ]
    },
    {
      "cell_type": "code",
      "metadata": {
        "colab": {
          "base_uri": "https://localhost:8080/"
        },
        "id": "VGSZy0ZhYDvK",
        "outputId": "0bfd7c42-cacc-4404-8a9b-ce89b329870b"
      },
      "source": [
        "#Getting the most popular hour of the day for picking up a shared car\n",
        "#The hour when difference of cars taken out of stations is the highest\n",
        "a=dfq.groupby('hour')['bluecar_nos'].sum()\n",
        "pop_hour = a.diff()\n",
        "pop_hour.loc[pop_hour==pop_hour.min()]"
      ],
      "execution_count": 347,
      "outputs": [
        {
          "output_type": "execute_result",
          "data": {
            "text/plain": [
              "hour\n",
              "22   -71.0\n",
              "Name: bluecar_nos, dtype: float64"
            ]
          },
          "metadata": {},
          "execution_count": 347
        }
      ]
    },
    {
      "cell_type": "markdown",
      "metadata": {
        "id": "p9lpZHmcXkvh"
      },
      "source": [
        "## 1.6 Bonus Questions"
      ]
    },
    {
      "cell_type": "code",
      "metadata": {
        "colab": {
          "base_uri": "https://localhost:8080/"
        },
        "id": "MSyjMa4zXaWO",
        "outputId": "369bedb8-19f1-4f22-c77e-37e374af9112"
      },
      "source": [
        "#Getting the least popular hour of the day for picking up a shared car\n",
        "#The hour when difference of cars put into stations is the highest\n",
        "\n",
        "pop_hour.loc[pop_hour==pop_hour.max()]"
      ],
      "execution_count": 348,
      "outputs": [
        {
          "output_type": "execute_result",
          "data": {
            "text/plain": [
              "hour\n",
              "21    119.0\n",
              "Name: bluecar_nos, dtype: float64"
            ]
          },
          "metadata": {},
          "execution_count": 348
        }
      ]
    },
    {
      "cell_type": "code",
      "metadata": {
        "colab": {
          "base_uri": "https://localhost:8080/"
        },
        "id": "NjOM4xJ3Ha0R",
        "outputId": "cbae4c59-187d-4c1e-bf3b-7ae0561c826d"
      },
      "source": [
        "#Most popular station in Paris \n",
        "#Has the highest number of cars\n",
        "stat = dfq.groupby('public_name')['bluecar_nos'].sum()\n",
        "stat.loc[stat==stat.max()]"
      ],
      "execution_count": 364,
      "outputs": [
        {
          "output_type": "execute_result",
          "data": {
            "text/plain": [
              "public_name\n",
              "Paris/Philippe Auguste/126    42\n",
              "Name: bluecar_nos, dtype: int64"
            ]
          },
          "metadata": {},
          "execution_count": 364
        }
      ]
    },
    {
      "cell_type": "code",
      "metadata": {
        "colab": {
          "base_uri": "https://localhost:8080/"
        },
        "id": "NhA2_LE1JOaR",
        "outputId": "aceac078-a131-426b-8e33-e671bdbccbbd"
      },
      "source": [
        "#Most popular station in Paris at most popular hour\n",
        "#Has the highest number of cars\n",
        "stat = dfq[dfq['hour']==22]\n",
        "stati_pop = stat.groupby('public_name')['bluecar_nos'].sum().sort_values(ascending=False)\n",
        "stati_pop.loc[stati_pop==stati_pop.max()]"
      ],
      "execution_count": 365,
      "outputs": [
        {
          "output_type": "execute_result",
          "data": {
            "text/plain": [
              "public_name\n",
              "Paris/Ravignan/1    9\n",
              "Name: bluecar_nos, dtype: int64"
            ]
          },
          "metadata": {},
          "execution_count": 365
        }
      ]
    },
    {
      "cell_type": "code",
      "metadata": {
        "colab": {
          "base_uri": "https://localhost:8080/"
        },
        "id": "0xl_e91yLLVP",
        "outputId": "d4102976-f50e-4250-a7d7-cd9a734683d7"
      },
      "source": [
        "#Most popular postal code for picking up cars\n",
        "#Has the highest number of cars\n",
        "post = dfq.groupby('postal_code')['bluecar_nos'].sum()\n",
        "post.loc[post==post.max()]"
      ],
      "execution_count": 360,
      "outputs": [
        {
          "output_type": "execute_result",
          "data": {
            "text/plain": [
              "postal_code\n",
              "75015    609\n",
              "Name: bluecar_nos, dtype: int64"
            ]
          },
          "metadata": {},
          "execution_count": 360
        }
      ]
    },
    {
      "cell_type": "code",
      "metadata": {
        "colab": {
          "base_uri": "https://localhost:8080/",
          "height": 388
        },
        "id": "l8IGmvhvbsPR",
        "outputId": "772fe831-edf9-4fa0-aaa6-520418337fc8"
      },
      "source": [
        "#Checking if most popular station is in the most popular postcode\n",
        "dfq.loc[dfq['public_name']=='Paris/Philippe Auguste/126',['postal_code']]"
      ],
      "execution_count": 368,
      "outputs": [
        {
          "output_type": "execute_result",
          "data": {
            "text/html": [
              "<div>\n",
              "<style scoped>\n",
              "    .dataframe tbody tr th:only-of-type {\n",
              "        vertical-align: middle;\n",
              "    }\n",
              "\n",
              "    .dataframe tbody tr th {\n",
              "        vertical-align: top;\n",
              "    }\n",
              "\n",
              "    .dataframe thead th {\n",
              "        text-align: right;\n",
              "    }\n",
              "</style>\n",
              "<table border=\"1\" class=\"dataframe\">\n",
              "  <thead>\n",
              "    <tr style=\"text-align: right;\">\n",
              "      <th></th>\n",
              "      <th>postal_code</th>\n",
              "    </tr>\n",
              "  </thead>\n",
              "  <tbody>\n",
              "    <tr>\n",
              "      <th>332</th>\n",
              "      <td>75011</td>\n",
              "    </tr>\n",
              "    <tr>\n",
              "      <th>340</th>\n",
              "      <td>75011</td>\n",
              "    </tr>\n",
              "    <tr>\n",
              "      <th>610</th>\n",
              "      <td>75011</td>\n",
              "    </tr>\n",
              "    <tr>\n",
              "      <th>1263</th>\n",
              "      <td>75011</td>\n",
              "    </tr>\n",
              "    <tr>\n",
              "      <th>1534</th>\n",
              "      <td>75011</td>\n",
              "    </tr>\n",
              "    <tr>\n",
              "      <th>2196</th>\n",
              "      <td>75011</td>\n",
              "    </tr>\n",
              "    <tr>\n",
              "      <th>3302</th>\n",
              "      <td>75011</td>\n",
              "    </tr>\n",
              "    <tr>\n",
              "      <th>4004</th>\n",
              "      <td>75011</td>\n",
              "    </tr>\n",
              "    <tr>\n",
              "      <th>4464</th>\n",
              "      <td>75011</td>\n",
              "    </tr>\n",
              "    <tr>\n",
              "      <th>4709</th>\n",
              "      <td>75011</td>\n",
              "    </tr>\n",
              "    <tr>\n",
              "      <th>4815</th>\n",
              "      <td>75011</td>\n",
              "    </tr>\n",
              "  </tbody>\n",
              "</table>\n",
              "</div>"
            ],
            "text/plain": [
              "      postal_code\n",
              "332         75011\n",
              "340         75011\n",
              "610         75011\n",
              "1263        75011\n",
              "1534        75011\n",
              "2196        75011\n",
              "3302        75011\n",
              "4004        75011\n",
              "4464        75011\n",
              "4709        75011\n",
              "4815        75011"
            ]
          },
          "metadata": {},
          "execution_count": 368
        }
      ]
    },
    {
      "cell_type": "markdown",
      "metadata": {
        "id": "hTQ3uzytdod1"
      },
      "source": [
        "The most popular station is not in the most popular postcode overall"
      ]
    },
    {
      "cell_type": "code",
      "metadata": {
        "colab": {
          "base_uri": "https://localhost:8080/"
        },
        "id": "6H8rKgpBLt_9",
        "outputId": "e6511b6d-495f-481e-eefa-4f137b8a9d46"
      },
      "source": [
        "#Most popular postal code for picking up cars at most popular picking hour\n",
        "#Has the highest number of cars\n",
        "posttime = dfq[dfq['hour']==22]\n",
        "posttime_pop= posttime.groupby('postal_code')['bluecar_nos'].sum()\n",
        "posttime_pop.loc[posttime_pop==posttime_pop.max()]"
      ],
      "execution_count": 369,
      "outputs": [
        {
          "output_type": "execute_result",
          "data": {
            "text/plain": [
              "postal_code\n",
              "75016    35\n",
              "Name: bluecar_nos, dtype: int64"
            ]
          },
          "metadata": {},
          "execution_count": 369
        }
      ]
    },
    {
      "cell_type": "markdown",
      "metadata": {
        "id": "9egZF95Jd9IJ"
      },
      "source": [
        "The most popular station is not in the most popular postcode at the most popular picking hour"
      ]
    },
    {
      "cell_type": "markdown",
      "metadata": {
        "id": "0hOaDb58eRb7"
      },
      "source": [
        "### Considering Utilib and Utilib 1.4"
      ]
    },
    {
      "cell_type": "markdown",
      "metadata": {
        "id": "Vsb14pgwhauw"
      },
      "source": [
        "Most popular hour of day for picking up cars"
      ]
    },
    {
      "cell_type": "code",
      "metadata": {
        "colab": {
          "base_uri": "https://localhost:8080/"
        },
        "id": "p6nu2WlueJjN",
        "outputId": "98337a03-05ee-40f1-d925-aafc71824ebd"
      },
      "source": [
        "#Getting the most popular hour of the day for picking up Utilb car\n",
        "#The hour when difference of cars taken out of stations is the highest\n",
        "a=dfq.groupby('hour')['utilib_nos'].sum()\n",
        "pop_hour_util = a.diff()\n",
        "pop_hour_util.loc[pop_hour_util==pop_hour_util.min()]"
      ],
      "execution_count": 374,
      "outputs": [
        {
          "output_type": "execute_result",
          "data": {
            "text/plain": [
              "hour\n",
              "9   -7.0\n",
              "Name: utilib_nos, dtype: float64"
            ]
          },
          "metadata": {},
          "execution_count": 374
        }
      ]
    },
    {
      "cell_type": "code",
      "metadata": {
        "colab": {
          "base_uri": "https://localhost:8080/"
        },
        "id": "y1_ypMgcevjx",
        "outputId": "246c0f72-59ad-468d-8feb-3aa59ac07332"
      },
      "source": [
        "#Getting the most popular hour of the day for picking up Utilib_1.4 car\n",
        "#The hour when difference of cars taken out of stations is the highest\n",
        "b=dfq.groupby('hour')['utilib_1.4_nos'].sum()\n",
        "pop_hour_util4 = b.diff()\n",
        "pop_hour_util4.loc[pop_hour_util4==pop_hour_util4.min()]"
      ],
      "execution_count": 375,
      "outputs": [
        {
          "output_type": "execute_result",
          "data": {
            "text/plain": [
              "hour\n",
              "11   -8.0\n",
              "18   -8.0\n",
              "Name: utilib_1.4_nos, dtype: float64"
            ]
          },
          "metadata": {},
          "execution_count": 375
        }
      ]
    },
    {
      "cell_type": "markdown",
      "metadata": {
        "id": "e3fN6jA0hhmF"
      },
      "source": [
        "Least popular hour for picking up cars"
      ]
    },
    {
      "cell_type": "code",
      "metadata": {
        "colab": {
          "base_uri": "https://localhost:8080/"
        },
        "id": "TyBJjnCMf8g9",
        "outputId": "be65bad3-f651-40cb-90a9-ed8ec584dd05"
      },
      "source": [
        "#Getting the least popular hour of the day for picking up Utilib car\n",
        "#The hour when difference of cars put into stations is the highest\n",
        "\n",
        "pop_hour_util.loc[pop_hour_util==pop_hour_util.max()]"
      ],
      "execution_count": 376,
      "outputs": [
        {
          "output_type": "execute_result",
          "data": {
            "text/plain": [
              "hour\n",
              "6    8.0\n",
              "Name: utilib_nos, dtype: float64"
            ]
          },
          "metadata": {},
          "execution_count": 376
        }
      ]
    },
    {
      "cell_type": "code",
      "metadata": {
        "colab": {
          "base_uri": "https://localhost:8080/"
        },
        "id": "HE7Hu6CogH6I",
        "outputId": "9a560320-a086-46ea-95f2-c74776a56492"
      },
      "source": [
        "#Getting the least popular hour of the day for picking up Utilib 1.4 car\n",
        "#The hour when difference of cars put into stations is the highest\n",
        "\n",
        "pop_hour_util4.loc[pop_hour_util4==pop_hour_util4.max()]"
      ],
      "execution_count": 377,
      "outputs": [
        {
          "output_type": "execute_result",
          "data": {
            "text/plain": [
              "hour\n",
              "21    9.0\n",
              "Name: utilib_1.4_nos, dtype: float64"
            ]
          },
          "metadata": {},
          "execution_count": 377
        }
      ]
    },
    {
      "cell_type": "markdown",
      "metadata": {
        "id": "WCpfbLXGhmi8"
      },
      "source": [
        "Most popular station for picking up cars"
      ]
    },
    {
      "cell_type": "code",
      "metadata": {
        "colab": {
          "base_uri": "https://localhost:8080/"
        },
        "id": "iOPXRZ0xgWwv",
        "outputId": "17fb3335-b602-466c-c33b-00581abc4205"
      },
      "source": [
        "#Most popular station in Paris for Utilib \n",
        "#Has the highest number of cars\n",
        "stat_util = dfq.groupby('public_name')['utilib_nos'].sum()\n",
        "stat_util.loc[stat_util==stat_util.max()]"
      ],
      "execution_count": 379,
      "outputs": [
        {
          "output_type": "execute_result",
          "data": {
            "text/plain": [
              "public_name\n",
              "Paris/Mac Mahon/5             4\n",
              "Paris/Porte de Montrouge/8    4\n",
              "Name: utilib_nos, dtype: int64"
            ]
          },
          "metadata": {},
          "execution_count": 379
        }
      ]
    },
    {
      "cell_type": "code",
      "metadata": {
        "colab": {
          "base_uri": "https://localhost:8080/"
        },
        "id": "tZzH84kdgc1x",
        "outputId": "5804de1b-587b-4634-9ca0-77368e818b6d"
      },
      "source": [
        "#Most popular station in Paris for Utilib 1.4\n",
        "#Has the highest number of cars\n",
        "stat_util4 = dfq.groupby('public_name')['utilib_1.4_nos'].sum()\n",
        "stat_util4.loc[stat_util4==stat_util4.max()]"
      ],
      "execution_count": 380,
      "outputs": [
        {
          "output_type": "execute_result",
          "data": {
            "text/plain": [
              "public_name\n",
              "Paris/Porte de Montrouge/8    7\n",
              "Name: utilib_1.4_nos, dtype: int64"
            ]
          },
          "metadata": {},
          "execution_count": 380
        }
      ]
    },
    {
      "cell_type": "markdown",
      "metadata": {
        "id": "KgEwLllih-xO"
      },
      "source": [
        "Most popular station for picking up cars at most popular hour"
      ]
    },
    {
      "cell_type": "code",
      "metadata": {
        "colab": {
          "base_uri": "https://localhost:8080/"
        },
        "id": "_xTT5fj7iHq1",
        "outputId": "a144883d-1ce7-4c3a-b1d9-4ca253d318e5"
      },
      "source": [
        "#Most popular station in Paris at most popular hour\n",
        "#Has the highest number of cars\n",
        "stat = dfq[dfq['hour']==9]\n",
        "stati_popU = stat.groupby('public_name')['utilib_nos'].sum().sort_values(ascending=False)\n",
        "stati_popU.loc[stati_popU==stati_popU.max()]"
      ],
      "execution_count": 385,
      "outputs": [
        {
          "output_type": "execute_result",
          "data": {
            "text/plain": [
              "public_name\n",
              "Paris/FrÃ©dÃ©ric LoliÃ©e/5    1\n",
              "Paris/Mac Mahon/5             1\n",
              "Paris/Victoria/17             1\n",
              "Paris/Picpus/7                1\n",
              "Paris/Marcadet/150            1\n",
              "Name: utilib_nos, dtype: int64"
            ]
          },
          "metadata": {},
          "execution_count": 385
        }
      ]
    },
    {
      "cell_type": "code",
      "metadata": {
        "colab": {
          "base_uri": "https://localhost:8080/"
        },
        "id": "6_pHA5BIi9XI",
        "outputId": "1b1d107f-8bb7-47b6-dea0-42f531e8a5ed"
      },
      "source": [
        "#Most popular station in Paris at most popular hour\n",
        "#Has the highest number of cars\n",
        "stat = dfq[dfq['hour']==11]\n",
        "stati_popU4 = stat.groupby('public_name')['utilib_1.4_nos'].sum().sort_values(ascending=False)\n",
        "stati_popU4.loc[stati_popU4==stati_popU4.max()]"
      ],
      "execution_count": 389,
      "outputs": [
        {
          "output_type": "execute_result",
          "data": {
            "text/plain": [
              "public_name\n",
              "Paris/Tolbiac/15         1\n",
              "Paris/Mathis/35          1\n",
              "Paris/Monge/58           1\n",
              "Paris/FÃ©dÃ©ration/10    1\n",
              "Paris/Berthier/97        1\n",
              "Paris/Tolbiac/145        1\n",
              "Paris/Tolbiac/41         1\n",
              "Paris/Parmentier/2       1\n",
              "Paris/Vaugirard/20       1\n",
              "Paris/Malesherbes/7      1\n",
              "Name: utilib_1.4_nos, dtype: int64"
            ]
          },
          "metadata": {},
          "execution_count": 389
        }
      ]
    },
    {
      "cell_type": "code",
      "metadata": {
        "colab": {
          "base_uri": "https://localhost:8080/"
        },
        "id": "YmOr1URej5Nz",
        "outputId": "653dea35-e9e5-45c2-fa6c-47b2ee975560"
      },
      "source": [
        "#Most popular station in Paris at most popular hour\n",
        "#Has the highest number of cars\n",
        "stat = dfq[dfq['hour']==18]\n",
        "stati_popU4 = stat.groupby('public_name')['utilib_1.4_nos'].sum().sort_values(ascending=False)\n",
        "stati_popU4.loc[stati_popU4==stati_popU4.max()]"
      ],
      "execution_count": 390,
      "outputs": [
        {
          "output_type": "execute_result",
          "data": {
            "text/plain": [
              "public_name\n",
              "Paris/Ãmile Laurent/1    1\n",
              "Paris/Milton/12           1\n",
              "Paris/Emile Zola/6        1\n",
              "Paris/Choisy/188          1\n",
              "Paris/Murat/1             1\n",
              "Paris/Belleville/22       1\n",
              "Paris/Georges Berger/2    1\n",
              "Paris/Lobineau/9          1\n",
              "Paris/Alexandrie/7        1\n",
              "Paris/Adolphe Mille/8     1\n",
              "Name: utilib_1.4_nos, dtype: int64"
            ]
          },
          "metadata": {},
          "execution_count": 390
        }
      ]
    },
    {
      "cell_type": "markdown",
      "metadata": {
        "id": "4TpvQgWJkWfs"
      },
      "source": [
        "Most popular postcode"
      ]
    },
    {
      "cell_type": "code",
      "metadata": {
        "colab": {
          "base_uri": "https://localhost:8080/"
        },
        "id": "Ny9kBKhUkhlB",
        "outputId": "916d0f00-4004-40da-d7bc-71b719e00dcf"
      },
      "source": [
        "#Most popular postal code for picking up Utilib cars\n",
        "#Has the highest number of cars\n",
        "postU = dfq.groupby('postal_code')['utilib_nos'].sum()\n",
        "postU.loc[postU==postU.max()]"
      ],
      "execution_count": 391,
      "outputs": [
        {
          "output_type": "execute_result",
          "data": {
            "text/plain": [
              "postal_code\n",
              "75015    20\n",
              "75016    20\n",
              "75017    20\n",
              "Name: utilib_nos, dtype: int64"
            ]
          },
          "metadata": {},
          "execution_count": 391
        }
      ]
    },
    {
      "cell_type": "code",
      "metadata": {
        "colab": {
          "base_uri": "https://localhost:8080/"
        },
        "id": "iC8gXpzqkh6-",
        "outputId": "5168b5ee-1ba9-4172-ea88-f7ded0cd6fa8"
      },
      "source": [
        "#Most popular postal code for picking up Utilib 1.4cars\n",
        "#Has the highest number of cars\n",
        "postU4 = dfq.groupby('postal_code')['utilib_1.4_nos'].sum()\n",
        "postU4.loc[postU4==postU4.max()]"
      ],
      "execution_count": 392,
      "outputs": [
        {
          "output_type": "execute_result",
          "data": {
            "text/plain": [
              "postal_code\n",
              "75017    40\n",
              "Name: utilib_1.4_nos, dtype: int64"
            ]
          },
          "metadata": {},
          "execution_count": 392
        }
      ]
    }
  ]
}